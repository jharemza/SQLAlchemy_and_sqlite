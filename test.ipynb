{
 "cells": [
  {
   "cell_type": "code",
   "execution_count": 1,
   "metadata": {},
   "outputs": [],
   "source": [
    "import csv\n",
    "from time import time\n",
    "from datetime import datetime\n",
    "from sqlalchemy import Column, Integer, Float, Date, Text, MetaData\n",
    "from sqlalchemy import create_engine\n",
    "from sqlalchemy.orm import sessionmaker\n",
    "from base import Base\n",
    "from myfields import myfields "
   ]
  },
  {
   "cell_type": "code",
   "execution_count": 2,
   "metadata": {},
   "outputs": [],
   "source": [
    "def Load_Data(file_name):\n",
    "    with open(file_name, newline='') as f:\n",
    "        reader = csv.reader(f)\n",
    "        next(reader)\n",
    "        data = [tuple(row) for row in reader]\n",
    "        return data"
   ]
  },
  {
   "cell_type": "code",
   "execution_count": 3,
   "metadata": {},
   "outputs": [],
   "source": [
    "engine = create_engine('sqlite:///mydatabase.db')\n",
    "Base.metadata.create_all(engine, checkfirst=True)\n",
    "    \n",
    "Session = sessionmaker(bind=engine)\n",
    "s = Session()"
   ]
  },
  {
   "cell_type": "code",
   "execution_count": 4,
   "metadata": {},
   "outputs": [],
   "source": [
    "file_name = \"mydata.csv\"\n",
    "data = Load_Data(file_name)"
   ]
  },
  {
   "cell_type": "code",
   "execution_count": 5,
   "metadata": {},
   "outputs": [
    {
     "name": "stdout",
     "output_type": "stream",
     "text": [
      "myfields('1111.11', 'some text', '2020-08-01 00:00:00')\n",
      "myfields('2222.22', 'other text', '2020-08-02 00:00:00')\n",
      "myfields('3333.33', 'more text', '2020-08-03 00:00:00')\n"
     ]
    }
   ],
   "source": [
    "for i in data:\n",
    "    record = myfields(**{\n",
    "        'field1' : float(i[0]),\n",
    "        'field2' : i[1],\n",
    "        'field3' : datetime.strptime(i[2], '%m/%d/%Y')\n",
    "        })\n",
    "    print(record)\n",
    "    s.add(record)\n"
   ]
  },
  {
   "cell_type": "code",
   "execution_count": 6,
   "metadata": {},
   "outputs": [],
   "source": [
    "s.commit()"
   ]
  },
  {
   "cell_type": "code",
   "execution_count": 7,
   "metadata": {},
   "outputs": [
    {
     "name": "stdout",
     "output_type": "stream",
     "text": [
      "[('1111.11', 'some text', '8/1/2020'), ('2222.22', 'other text', '8/2/2020'), ('3333.33', 'more text', '8/3/2020')]\n"
     ]
    }
   ],
   "source": [
    "print(data)"
   ]
  },
  {
   "cell_type": "code",
   "execution_count": null,
   "metadata": {},
   "outputs": [],
   "source": []
  }
 ],
 "metadata": {
  "kernelspec": {
   "display_name": "api",
   "language": "python",
   "name": "api"
  },
  "language_info": {
   "codemirror_mode": {
    "name": "ipython",
    "version": 3
   },
   "file_extension": ".py",
   "mimetype": "text/x-python",
   "name": "python",
   "nbconvert_exporter": "python",
   "pygments_lexer": "ipython3",
   "version": "3.6.5"
  }
 },
 "nbformat": 4,
 "nbformat_minor": 4
}
